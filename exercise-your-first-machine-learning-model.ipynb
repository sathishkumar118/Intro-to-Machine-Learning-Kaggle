{
 "cells": [
  {
   "cell_type": "markdown",
   "id": "0527a701",
   "metadata": {
    "papermill": {
     "duration": 0.007416,
     "end_time": "2022-05-29T10:08:43.602762",
     "exception": false,
     "start_time": "2022-05-29T10:08:43.595346",
     "status": "completed"
    },
    "tags": []
   },
   "source": [
    "**This notebook is an exercise in the [Introduction to Machine Learning](https://www.kaggle.com/learn/intro-to-machine-learning) course.  You can reference the tutorial at [this link](https://www.kaggle.com/dansbecker/your-first-machine-learning-model).**\n",
    "\n",
    "---\n"
   ]
  },
  {
   "cell_type": "markdown",
   "id": "6f71e8be",
   "metadata": {
    "papermill": {
     "duration": 0.003806,
     "end_time": "2022-05-29T10:08:43.611092",
     "exception": false,
     "start_time": "2022-05-29T10:08:43.607286",
     "status": "completed"
    },
    "tags": []
   },
   "source": [
    "## Recap\n",
    "So far, you have loaded your data and reviewed it with the following code. Run this cell to set up your coding environment where the previous step left off."
   ]
  },
  {
   "cell_type": "code",
   "execution_count": 1,
   "id": "08127377",
   "metadata": {
    "execution": {
     "iopub.execute_input": "2022-05-29T10:08:43.621845Z",
     "iopub.status.busy": "2022-05-29T10:08:43.620980Z",
     "iopub.status.idle": "2022-05-29T10:08:45.031251Z",
     "shell.execute_reply": "2022-05-29T10:08:45.030165Z"
    },
    "papermill": {
     "duration": 1.419124,
     "end_time": "2022-05-29T10:08:45.034275",
     "exception": false,
     "start_time": "2022-05-29T10:08:43.615151",
     "status": "completed"
    },
    "tags": []
   },
   "outputs": [
    {
     "name": "stdout",
     "output_type": "stream",
     "text": [
      "Setup Complete\n"
     ]
    }
   ],
   "source": [
    "# Code you have previously used to load data\n",
    "import pandas as pd\n",
    "\n",
    "# Path of the file to read\n",
    "iowa_file_path = '../input/home-data-for-ml-course/train.csv'\n",
    "\n",
    "home_data = pd.read_csv(iowa_file_path)\n",
    "\n",
    "# Set up code checking\n",
    "from learntools.core import binder\n",
    "binder.bind(globals())\n",
    "from learntools.machine_learning.ex3 import *\n",
    "\n",
    "print(\"Setup Complete\")"
   ]
  },
  {
   "cell_type": "markdown",
   "id": "f41ff8fa",
   "metadata": {
    "papermill": {
     "duration": 0.003927,
     "end_time": "2022-05-29T10:08:45.042684",
     "exception": false,
     "start_time": "2022-05-29T10:08:45.038757",
     "status": "completed"
    },
    "tags": []
   },
   "source": [
    "# Exercises\n",
    "\n",
    "## Step 1: Specify Prediction Target\n",
    "Select the target variable, which corresponds to the sales price. Save this to a new variable called `y`. You'll need to print a list of the columns to find the name of the column you need.\n"
   ]
  },
  {
   "cell_type": "code",
   "execution_count": 2,
   "id": "5d63ce09",
   "metadata": {
    "execution": {
     "iopub.execute_input": "2022-05-29T10:08:45.056526Z",
     "iopub.status.busy": "2022-05-29T10:08:45.055618Z",
     "iopub.status.idle": "2022-05-29T10:08:45.070572Z",
     "shell.execute_reply": "2022-05-29T10:08:45.069542Z"
    },
    "papermill": {
     "duration": 0.025648,
     "end_time": "2022-05-29T10:08:45.072621",
     "exception": false,
     "start_time": "2022-05-29T10:08:45.046973",
     "status": "completed"
    },
    "tags": []
   },
   "outputs": [
    {
     "data": {
      "text/plain": [
       "Index(['Id', 'MSSubClass', 'MSZoning', 'LotFrontage', 'LotArea', 'Street',\n",
       "       'Alley', 'LotShape', 'LandContour', 'Utilities', 'LotConfig',\n",
       "       'LandSlope', 'Neighborhood', 'Condition1', 'Condition2', 'BldgType',\n",
       "       'HouseStyle', 'OverallQual', 'OverallCond', 'YearBuilt', 'YearRemodAdd',\n",
       "       'RoofStyle', 'RoofMatl', 'Exterior1st', 'Exterior2nd', 'MasVnrType',\n",
       "       'MasVnrArea', 'ExterQual', 'ExterCond', 'Foundation', 'BsmtQual',\n",
       "       'BsmtCond', 'BsmtExposure', 'BsmtFinType1', 'BsmtFinSF1',\n",
       "       'BsmtFinType2', 'BsmtFinSF2', 'BsmtUnfSF', 'TotalBsmtSF', 'Heating',\n",
       "       'HeatingQC', 'CentralAir', 'Electrical', '1stFlrSF', '2ndFlrSF',\n",
       "       'LowQualFinSF', 'GrLivArea', 'BsmtFullBath', 'BsmtHalfBath', 'FullBath',\n",
       "       'HalfBath', 'BedroomAbvGr', 'KitchenAbvGr', 'KitchenQual',\n",
       "       'TotRmsAbvGrd', 'Functional', 'Fireplaces', 'FireplaceQu', 'GarageType',\n",
       "       'GarageYrBlt', 'GarageFinish', 'GarageCars', 'GarageArea', 'GarageQual',\n",
       "       'GarageCond', 'PavedDrive', 'WoodDeckSF', 'OpenPorchSF',\n",
       "       'EnclosedPorch', '3SsnPorch', 'ScreenPorch', 'PoolArea', 'PoolQC',\n",
       "       'Fence', 'MiscFeature', 'MiscVal', 'MoSold', 'YrSold', 'SaleType',\n",
       "       'SaleCondition', 'SalePrice'],\n",
       "      dtype='object')"
      ]
     },
     "execution_count": 2,
     "metadata": {},
     "output_type": "execute_result"
    }
   ],
   "source": [
    "# print the list of columns in the dataset to find the name of the prediction target\n",
    "home_data.columns"
   ]
  },
  {
   "cell_type": "code",
   "execution_count": 3,
   "id": "1c9e0b72",
   "metadata": {
    "execution": {
     "iopub.execute_input": "2022-05-29T10:08:45.083422Z",
     "iopub.status.busy": "2022-05-29T10:08:45.082573Z",
     "iopub.status.idle": "2022-05-29T10:08:45.099408Z",
     "shell.execute_reply": "2022-05-29T10:08:45.098286Z"
    },
    "papermill": {
     "duration": 0.024092,
     "end_time": "2022-05-29T10:08:45.101257",
     "exception": false,
     "start_time": "2022-05-29T10:08:45.077165",
     "status": "completed"
    },
    "tags": []
   },
   "outputs": [
    {
     "data": {
      "application/javascript": [
       "parent.postMessage({\"jupyterEvent\": \"custom.exercise_interaction\", \"data\": {\"outcomeType\": 1, \"valueTowardsCompletion\": 0.25, \"interactionType\": 1, \"questionType\": 2, \"questionId\": \"1_SetTarget\", \"learnToolsVersion\": \"0.3.4\", \"failureMessage\": \"\", \"exceptionClass\": \"\", \"trace\": \"\"}}, \"*\")"
      ],
      "text/plain": [
       "<IPython.core.display.Javascript object>"
      ]
     },
     "metadata": {},
     "output_type": "display_data"
    },
    {
     "data": {
      "text/markdown": [
       "<span style=\"color:#33cc33\">Correct</span>"
      ],
      "text/plain": [
       "Correct"
      ]
     },
     "metadata": {},
     "output_type": "display_data"
    }
   ],
   "source": [
    "y = home_data.SalePrice\n",
    "\n",
    "# Check your answer\n",
    "step_1.check()"
   ]
  },
  {
   "cell_type": "code",
   "execution_count": 4,
   "id": "51abe77d",
   "metadata": {
    "collapsed": true,
    "execution": {
     "iopub.execute_input": "2022-05-29T10:08:45.112145Z",
     "iopub.status.busy": "2022-05-29T10:08:45.111428Z",
     "iopub.status.idle": "2022-05-29T10:08:45.115688Z",
     "shell.execute_reply": "2022-05-29T10:08:45.115029Z"
    },
    "jupyter": {
     "outputs_hidden": true
    },
    "papermill": {
     "duration": 0.011629,
     "end_time": "2022-05-29T10:08:45.117406",
     "exception": false,
     "start_time": "2022-05-29T10:08:45.105777",
     "status": "completed"
    },
    "tags": []
   },
   "outputs": [],
   "source": [
    "# The lines below will show you a hint or the solution.\n",
    "# step_1.hint() \n",
    "# step_1.solution()"
   ]
  },
  {
   "cell_type": "markdown",
   "id": "73bd1d25",
   "metadata": {
    "papermill": {
     "duration": 0.004299,
     "end_time": "2022-05-29T10:08:45.126238",
     "exception": false,
     "start_time": "2022-05-29T10:08:45.121939",
     "status": "completed"
    },
    "tags": []
   },
   "source": [
    "## Step 2: Create X\n",
    "Now you will create a DataFrame called `X` holding the predictive features.\n",
    "\n",
    "Since you want only some columns from the original data, you'll first create a list with the names of the columns you want in `X`.\n",
    "\n",
    "You'll use just the following columns in the list (you can copy and paste the whole list to save some typing, though you'll still need to add quotes):\n",
    "  * LotArea\n",
    "  * YearBuilt\n",
    "  * 1stFlrSF\n",
    "  * 2ndFlrSF\n",
    "  * FullBath\n",
    "  * BedroomAbvGr\n",
    "  * TotRmsAbvGrd\n",
    "\n",
    "After you've created that list of features, use it to create the DataFrame that you'll use to fit the model."
   ]
  },
  {
   "cell_type": "code",
   "execution_count": 5,
   "id": "3637f4a4",
   "metadata": {
    "execution": {
     "iopub.execute_input": "2022-05-29T10:08:45.137738Z",
     "iopub.status.busy": "2022-05-29T10:08:45.137017Z",
     "iopub.status.idle": "2022-05-29T10:08:45.150790Z",
     "shell.execute_reply": "2022-05-29T10:08:45.150021Z"
    },
    "papermill": {
     "duration": 0.021407,
     "end_time": "2022-05-29T10:08:45.152626",
     "exception": false,
     "start_time": "2022-05-29T10:08:45.131219",
     "status": "completed"
    },
    "tags": []
   },
   "outputs": [
    {
     "data": {
      "application/javascript": [
       "parent.postMessage({\"jupyterEvent\": \"custom.exercise_interaction\", \"data\": {\"outcomeType\": 1, \"valueTowardsCompletion\": 0.25, \"interactionType\": 1, \"questionType\": 2, \"questionId\": \"2_SelectPredictionData\", \"learnToolsVersion\": \"0.3.4\", \"failureMessage\": \"\", \"exceptionClass\": \"\", \"trace\": \"\"}}, \"*\")"
      ],
      "text/plain": [
       "<IPython.core.display.Javascript object>"
      ]
     },
     "metadata": {},
     "output_type": "display_data"
    },
    {
     "data": {
      "text/markdown": [
       "<span style=\"color:#33cc33\">Correct</span>"
      ],
      "text/plain": [
       "Correct"
      ]
     },
     "metadata": {},
     "output_type": "display_data"
    }
   ],
   "source": [
    "# Create the list of features below\n",
    "feature_names = ['LotArea','YearBuilt','1stFlrSF','2ndFlrSF','FullBath','BedroomAbvGr','TotRmsAbvGrd']\n",
    "\n",
    "# Select data corresponding to features in feature_names\n",
    "X = home_data[feature_names]\n",
    "\n",
    "# Check your answer\n",
    "step_2.check()"
   ]
  },
  {
   "cell_type": "code",
   "execution_count": 6,
   "id": "e60dd076",
   "metadata": {
    "collapsed": true,
    "execution": {
     "iopub.execute_input": "2022-05-29T10:08:45.163954Z",
     "iopub.status.busy": "2022-05-29T10:08:45.163312Z",
     "iopub.status.idle": "2022-05-29T10:08:45.167481Z",
     "shell.execute_reply": "2022-05-29T10:08:45.166630Z"
    },
    "jupyter": {
     "outputs_hidden": true
    },
    "papermill": {
     "duration": 0.012071,
     "end_time": "2022-05-29T10:08:45.169478",
     "exception": false,
     "start_time": "2022-05-29T10:08:45.157407",
     "status": "completed"
    },
    "tags": []
   },
   "outputs": [],
   "source": [
    "# step_2.hint()\n",
    "# step_2.solution()"
   ]
  },
  {
   "cell_type": "markdown",
   "id": "6e91de00",
   "metadata": {
    "papermill": {
     "duration": 0.004313,
     "end_time": "2022-05-29T10:08:45.178689",
     "exception": false,
     "start_time": "2022-05-29T10:08:45.174376",
     "status": "completed"
    },
    "tags": []
   },
   "source": [
    "## Review Data\n",
    "Before building a model, take a quick look at **X** to verify it looks sensible"
   ]
  },
  {
   "cell_type": "code",
   "execution_count": 7,
   "id": "113e6c74",
   "metadata": {
    "execution": {
     "iopub.execute_input": "2022-05-29T10:08:45.190260Z",
     "iopub.status.busy": "2022-05-29T10:08:45.189555Z",
     "iopub.status.idle": "2022-05-29T10:08:45.224276Z",
     "shell.execute_reply": "2022-05-29T10:08:45.223280Z"
    },
    "papermill": {
     "duration": 0.042927,
     "end_time": "2022-05-29T10:08:45.226289",
     "exception": false,
     "start_time": "2022-05-29T10:08:45.183362",
     "status": "completed"
    },
    "tags": []
   },
   "outputs": [
    {
     "name": "stdout",
     "output_type": "stream",
     "text": [
      "             LotArea    YearBuilt     1stFlrSF     2ndFlrSF     FullBath  \\\n",
      "count    1460.000000  1460.000000  1460.000000  1460.000000  1460.000000   \n",
      "mean    10516.828082  1971.267808  1162.626712   346.992466     1.565068   \n",
      "std      9981.264932    30.202904   386.587738   436.528436     0.550916   \n",
      "min      1300.000000  1872.000000   334.000000     0.000000     0.000000   \n",
      "25%      7553.500000  1954.000000   882.000000     0.000000     1.000000   \n",
      "50%      9478.500000  1973.000000  1087.000000     0.000000     2.000000   \n",
      "75%     11601.500000  2000.000000  1391.250000   728.000000     2.000000   \n",
      "max    215245.000000  2010.000000  4692.000000  2065.000000     3.000000   \n",
      "\n",
      "       BedroomAbvGr  TotRmsAbvGrd  \n",
      "count   1460.000000   1460.000000  \n",
      "mean       2.866438      6.517808  \n",
      "std        0.815778      1.625393  \n",
      "min        0.000000      2.000000  \n",
      "25%        2.000000      5.000000  \n",
      "50%        3.000000      6.000000  \n",
      "75%        3.000000      7.000000  \n",
      "max        8.000000     14.000000  \n",
      "   LotArea  YearBuilt  1stFlrSF  2ndFlrSF  FullBath  BedroomAbvGr  \\\n",
      "0     8450       2003       856       854         2             3   \n",
      "1     9600       1976      1262         0         2             3   \n",
      "2    11250       2001       920       866         2             3   \n",
      "3     9550       1915       961       756         1             3   \n",
      "4    14260       2000      1145      1053         2             4   \n",
      "\n",
      "   TotRmsAbvGrd  \n",
      "0             8  \n",
      "1             6  \n",
      "2             6  \n",
      "3             7  \n",
      "4             9  \n"
     ]
    }
   ],
   "source": [
    "# Review data\n",
    "# print description or statistics from X\n",
    "print(X.describe())\n",
    "\n",
    "# print the top few lines\n",
    "print(X.head())"
   ]
  },
  {
   "cell_type": "markdown",
   "id": "ebf599a2",
   "metadata": {
    "papermill": {
     "duration": 0.004515,
     "end_time": "2022-05-29T10:08:45.235982",
     "exception": false,
     "start_time": "2022-05-29T10:08:45.231467",
     "status": "completed"
    },
    "tags": []
   },
   "source": [
    "## Step 3: Specify and Fit Model\n",
    "Create a `DecisionTreeRegressor` and save it iowa_model. Ensure you've done the relevant import from sklearn to run this command.\n",
    "\n",
    "Then fit the model you just created using the data in `X` and `y` that you saved above."
   ]
  },
  {
   "cell_type": "code",
   "execution_count": 8,
   "id": "3737b126",
   "metadata": {
    "execution": {
     "iopub.execute_input": "2022-05-29T10:08:45.247054Z",
     "iopub.status.busy": "2022-05-29T10:08:45.246525Z",
     "iopub.status.idle": "2022-05-29T10:08:45.264135Z",
     "shell.execute_reply": "2022-05-29T10:08:45.263167Z"
    },
    "papermill": {
     "duration": 0.025433,
     "end_time": "2022-05-29T10:08:45.266045",
     "exception": false,
     "start_time": "2022-05-29T10:08:45.240612",
     "status": "completed"
    },
    "tags": []
   },
   "outputs": [
    {
     "data": {
      "application/javascript": [
       "parent.postMessage({\"jupyterEvent\": \"custom.exercise_interaction\", \"data\": {\"outcomeType\": 1, \"valueTowardsCompletion\": 0.25, \"interactionType\": 1, \"questionType\": 2, \"questionId\": \"3_CreateModel\", \"learnToolsVersion\": \"0.3.4\", \"failureMessage\": \"\", \"exceptionClass\": \"\", \"trace\": \"\"}}, \"*\")"
      ],
      "text/plain": [
       "<IPython.core.display.Javascript object>"
      ]
     },
     "metadata": {},
     "output_type": "display_data"
    },
    {
     "data": {
      "text/markdown": [
       "<span style=\"color:#33cc33\">Correct</span>"
      ],
      "text/plain": [
       "Correct"
      ]
     },
     "metadata": {},
     "output_type": "display_data"
    }
   ],
   "source": [
    "from sklearn.tree import DecisionTreeRegressor\n",
    "#specify the model. \n",
    "#For model reproducibility, set a numeric value for random_state when specifying the model\n",
    "iowa_model = DecisionTreeRegressor(random_state = 1)\n",
    "\n",
    "# Fit the model\n",
    "iowa_model.fit(X,y)\n",
    "\n",
    "# Check your answer\n",
    "step_3.check()"
   ]
  },
  {
   "cell_type": "code",
   "execution_count": 9,
   "id": "ddff2ada",
   "metadata": {
    "collapsed": true,
    "execution": {
     "iopub.execute_input": "2022-05-29T10:08:45.277554Z",
     "iopub.status.busy": "2022-05-29T10:08:45.277185Z",
     "iopub.status.idle": "2022-05-29T10:08:45.281106Z",
     "shell.execute_reply": "2022-05-29T10:08:45.280171Z"
    },
    "jupyter": {
     "outputs_hidden": true
    },
    "papermill": {
     "duration": 0.011792,
     "end_time": "2022-05-29T10:08:45.282858",
     "exception": false,
     "start_time": "2022-05-29T10:08:45.271066",
     "status": "completed"
    },
    "tags": []
   },
   "outputs": [],
   "source": [
    "# step_3.hint()\n",
    "# step_3.solution()"
   ]
  },
  {
   "cell_type": "markdown",
   "id": "18ba263c",
   "metadata": {
    "papermill": {
     "duration": 0.004843,
     "end_time": "2022-05-29T10:08:45.292618",
     "exception": false,
     "start_time": "2022-05-29T10:08:45.287775",
     "status": "completed"
    },
    "tags": []
   },
   "source": [
    "## Step 4: Make Predictions\n",
    "Make predictions with the model's `predict` command using `X` as the data. Save the results to a variable called `predictions`."
   ]
  },
  {
   "cell_type": "code",
   "execution_count": 10,
   "id": "bbcb3079",
   "metadata": {
    "execution": {
     "iopub.execute_input": "2022-05-29T10:08:45.304474Z",
     "iopub.status.busy": "2022-05-29T10:08:45.304062Z",
     "iopub.status.idle": "2022-05-29T10:08:45.316780Z",
     "shell.execute_reply": "2022-05-29T10:08:45.316012Z"
    },
    "papermill": {
     "duration": 0.020659,
     "end_time": "2022-05-29T10:08:45.318497",
     "exception": false,
     "start_time": "2022-05-29T10:08:45.297838",
     "status": "completed"
    },
    "tags": []
   },
   "outputs": [
    {
     "name": "stdout",
     "output_type": "stream",
     "text": [
      "[208500. 181500. 223500. ... 266500. 142125. 147500.]\n"
     ]
    },
    {
     "data": {
      "application/javascript": [
       "parent.postMessage({\"jupyterEvent\": \"custom.exercise_interaction\", \"data\": {\"outcomeType\": 1, \"valueTowardsCompletion\": 0.25, \"interactionType\": 1, \"questionType\": 2, \"questionId\": \"4_MakePredictions\", \"learnToolsVersion\": \"0.3.4\", \"failureMessage\": \"\", \"exceptionClass\": \"\", \"trace\": \"\"}}, \"*\")"
      ],
      "text/plain": [
       "<IPython.core.display.Javascript object>"
      ]
     },
     "metadata": {},
     "output_type": "display_data"
    },
    {
     "data": {
      "text/markdown": [
       "<span style=\"color:#33cc33\">Correct</span>"
      ],
      "text/plain": [
       "Correct"
      ]
     },
     "metadata": {},
     "output_type": "display_data"
    }
   ],
   "source": [
    "predictions = iowa_model.predict(X)\n",
    "print(predictions)\n",
    "\n",
    "# Check your answer\n",
    "step_4.check()"
   ]
  },
  {
   "cell_type": "code",
   "execution_count": 11,
   "id": "894d21bf",
   "metadata": {
    "collapsed": true,
    "execution": {
     "iopub.execute_input": "2022-05-29T10:08:45.330488Z",
     "iopub.status.busy": "2022-05-29T10:08:45.329638Z",
     "iopub.status.idle": "2022-05-29T10:08:45.333776Z",
     "shell.execute_reply": "2022-05-29T10:08:45.333145Z"
    },
    "jupyter": {
     "outputs_hidden": true
    },
    "papermill": {
     "duration": 0.011951,
     "end_time": "2022-05-29T10:08:45.335545",
     "exception": false,
     "start_time": "2022-05-29T10:08:45.323594",
     "status": "completed"
    },
    "tags": []
   },
   "outputs": [],
   "source": [
    "# step_4.hint()\n",
    "# step_4.solution()"
   ]
  },
  {
   "cell_type": "markdown",
   "id": "5a58df38",
   "metadata": {
    "papermill": {
     "duration": 0.005002,
     "end_time": "2022-05-29T10:08:45.345725",
     "exception": false,
     "start_time": "2022-05-29T10:08:45.340723",
     "status": "completed"
    },
    "tags": []
   },
   "source": [
    "## Think About Your Results\n",
    "\n",
    "Use the `head` method to compare the top few predictions to the actual home values (in `y`) for those same homes. Anything surprising?\n"
   ]
  },
  {
   "cell_type": "code",
   "execution_count": 12,
   "id": "fd581c47",
   "metadata": {
    "execution": {
     "iopub.execute_input": "2022-05-29T10:08:45.357676Z",
     "iopub.status.busy": "2022-05-29T10:08:45.357016Z",
     "iopub.status.idle": "2022-05-29T10:08:45.361143Z",
     "shell.execute_reply": "2022-05-29T10:08:45.360466Z"
    },
    "papermill": {
     "duration": 0.012067,
     "end_time": "2022-05-29T10:08:45.362855",
     "exception": false,
     "start_time": "2022-05-29T10:08:45.350788",
     "status": "completed"
    },
    "tags": []
   },
   "outputs": [],
   "source": [
    "# You can write code in this cell\n"
   ]
  },
  {
   "cell_type": "markdown",
   "id": "fa5c0700",
   "metadata": {
    "papermill": {
     "duration": 0.004919,
     "end_time": "2022-05-29T10:08:45.372849",
     "exception": false,
     "start_time": "2022-05-29T10:08:45.367930",
     "status": "completed"
    },
    "tags": []
   },
   "source": [
    "It's natural to ask how accurate the model's predictions will be and how you can improve that. That will be you're next step.\n",
    "\n",
    "# Keep Going\n",
    "\n",
    "You are ready for **[Model Validation](https://www.kaggle.com/dansbecker/model-validation).**\n"
   ]
  },
  {
   "cell_type": "markdown",
   "id": "75d4f584",
   "metadata": {
    "papermill": {
     "duration": 0.004854,
     "end_time": "2022-05-29T10:08:45.382848",
     "exception": false,
     "start_time": "2022-05-29T10:08:45.377994",
     "status": "completed"
    },
    "tags": []
   },
   "source": [
    "---\n",
    "\n",
    "\n",
    "\n",
    "\n",
    "*Have questions or comments? Visit the [course discussion forum](https://www.kaggle.com/learn/intro-to-machine-learning/discussion) to chat with other learners.*"
   ]
  }
 ],
 "metadata": {
  "kernelspec": {
   "display_name": "Python 3",
   "language": "python",
   "name": "python3"
  },
  "language_info": {
   "codemirror_mode": {
    "name": "ipython",
    "version": 3
   },
   "file_extension": ".py",
   "mimetype": "text/x-python",
   "name": "python",
   "nbconvert_exporter": "python",
   "pygments_lexer": "ipython3",
   "version": "3.7.12"
  },
  "papermill": {
   "default_parameters": {},
   "duration": 11.410448,
   "end_time": "2022-05-29T10:08:46.108548",
   "environment_variables": {},
   "exception": null,
   "input_path": "__notebook__.ipynb",
   "output_path": "__notebook__.ipynb",
   "parameters": {},
   "start_time": "2022-05-29T10:08:34.698100",
   "version": "2.3.4"
  }
 },
 "nbformat": 4,
 "nbformat_minor": 5
}
