{
 "cells": [
  {
   "cell_type": "markdown",
   "id": "923bec2f",
   "metadata": {
    "papermill": {
     "duration": 0.011977,
     "end_time": "2022-05-29T12:16:56.802807",
     "exception": false,
     "start_time": "2022-05-29T12:16:56.790830",
     "status": "completed"
    },
    "tags": []
   },
   "source": [
    "**This notebook is an exercise in the [Introduction to Machine Learning](https://www.kaggle.com/learn/intro-to-machine-learning) course.  You can reference the tutorial at [this link](https://www.kaggle.com/dansbecker/model-validation).**\n",
    "\n",
    "---\n"
   ]
  },
  {
   "cell_type": "markdown",
   "id": "779a953b",
   "metadata": {
    "papermill": {
     "duration": 0.005937,
     "end_time": "2022-05-29T12:16:56.815337",
     "exception": false,
     "start_time": "2022-05-29T12:16:56.809400",
     "status": "completed"
    },
    "tags": []
   },
   "source": [
    "## Recap\n",
    "You've built a model. In this exercise you will test how good your model is.\n",
    "\n",
    "Run the cell below to set up your coding environment where the previous exercise left off."
   ]
  },
  {
   "cell_type": "code",
   "execution_count": 1,
   "id": "e5966d23",
   "metadata": {
    "execution": {
     "iopub.execute_input": "2022-05-29T12:16:56.832028Z",
     "iopub.status.busy": "2022-05-29T12:16:56.831150Z",
     "iopub.status.idle": "2022-05-29T12:16:58.570341Z",
     "shell.execute_reply": "2022-05-29T12:16:58.568968Z"
    },
    "papermill": {
     "duration": 1.750454,
     "end_time": "2022-05-29T12:16:58.572697",
     "exception": false,
     "start_time": "2022-05-29T12:16:56.822243",
     "status": "completed"
    },
    "tags": []
   },
   "outputs": [
    {
     "name": "stdout",
     "output_type": "stream",
     "text": [
      "First in-sample predictions: [208500. 181500. 223500. 140000. 250000.]\n",
      "Actual target values for those homes: [208500, 181500, 223500, 140000, 250000]\n",
      "Setup Complete\n"
     ]
    }
   ],
   "source": [
    "# Code you have previously used to load data\n",
    "import pandas as pd\n",
    "from sklearn.tree import DecisionTreeRegressor\n",
    "\n",
    "# Path of the file to read\n",
    "iowa_file_path = '../input/home-data-for-ml-course/train.csv'\n",
    "\n",
    "home_data = pd.read_csv(iowa_file_path)\n",
    "y = home_data.SalePrice\n",
    "feature_columns = ['LotArea', 'YearBuilt', '1stFlrSF', '2ndFlrSF', 'FullBath', 'BedroomAbvGr', 'TotRmsAbvGrd']\n",
    "X = home_data[feature_columns]\n",
    "\n",
    "# Specify Model\n",
    "iowa_model = DecisionTreeRegressor()\n",
    "# Fit Model\n",
    "iowa_model.fit(X, y)\n",
    "\n",
    "print(\"First in-sample predictions:\", iowa_model.predict(X.head()))\n",
    "print(\"Actual target values for those homes:\", y.head().tolist())\n",
    "\n",
    "# Set up code checking\n",
    "from learntools.core import binder\n",
    "binder.bind(globals())\n",
    "from learntools.machine_learning.ex4 import *\n",
    "print(\"Setup Complete\")"
   ]
  },
  {
   "cell_type": "markdown",
   "id": "94c4b489",
   "metadata": {
    "papermill": {
     "duration": 0.006053,
     "end_time": "2022-05-29T12:16:58.585328",
     "exception": false,
     "start_time": "2022-05-29T12:16:58.579275",
     "status": "completed"
    },
    "tags": []
   },
   "source": [
    "# Exercises\n",
    "\n",
    "## Step 1: Split Your Data\n",
    "Use the `train_test_split` function to split up your data.\n",
    "\n",
    "Give it the argument `random_state=1` so the `check` functions know what to expect when verifying your code.\n",
    "\n",
    "Recall, your features are loaded in the DataFrame **X** and your target is loaded in **y**.\n"
   ]
  },
  {
   "cell_type": "code",
   "execution_count": 2,
   "id": "6bd11771",
   "metadata": {
    "execution": {
     "iopub.execute_input": "2022-05-29T12:16:58.600564Z",
     "iopub.status.busy": "2022-05-29T12:16:58.599264Z",
     "iopub.status.idle": "2022-05-29T12:16:58.613530Z",
     "shell.execute_reply": "2022-05-29T12:16:58.612260Z"
    },
    "papermill": {
     "duration": 0.023847,
     "end_time": "2022-05-29T12:16:58.615673",
     "exception": false,
     "start_time": "2022-05-29T12:16:58.591826",
     "status": "completed"
    },
    "tags": []
   },
   "outputs": [
    {
     "data": {
      "application/javascript": [
       "parent.postMessage({\"jupyterEvent\": \"custom.exercise_interaction\", \"data\": {\"outcomeType\": 1, \"valueTowardsCompletion\": 0.25, \"interactionType\": 1, \"questionType\": 2, \"questionId\": \"1_SplitData\", \"learnToolsVersion\": \"0.3.4\", \"failureMessage\": \"\", \"exceptionClass\": \"\", \"trace\": \"\"}}, \"*\")"
      ],
      "text/plain": [
       "<IPython.core.display.Javascript object>"
      ]
     },
     "metadata": {},
     "output_type": "display_data"
    },
    {
     "data": {
      "text/markdown": [
       "<span style=\"color:#33cc33\">Correct</span>"
      ],
      "text/plain": [
       "Correct"
      ]
     },
     "metadata": {},
     "output_type": "display_data"
    }
   ],
   "source": [
    "# Import the train_test_split function and uncomment\n",
    "from sklearn.model_selection import train_test_split\n",
    "\n",
    "# fill in and uncomment\n",
    "train_X, val_X, train_y, val_y = train_test_split(X, y, random_state = 1)\n",
    "\n",
    "# Check your answer\n",
    "step_1.check()"
   ]
  },
  {
   "cell_type": "code",
   "execution_count": 3,
   "id": "804f713b",
   "metadata": {
    "execution": {
     "iopub.execute_input": "2022-05-29T12:16:58.631656Z",
     "iopub.status.busy": "2022-05-29T12:16:58.630303Z",
     "iopub.status.idle": "2022-05-29T12:16:58.635832Z",
     "shell.execute_reply": "2022-05-29T12:16:58.634617Z"
    },
    "papermill": {
     "duration": 0.016069,
     "end_time": "2022-05-29T12:16:58.638650",
     "exception": false,
     "start_time": "2022-05-29T12:16:58.622581",
     "status": "completed"
    },
    "tags": []
   },
   "outputs": [],
   "source": [
    "# The lines below will show you a hint or the solution.\n",
    "# step_1.hint() \n",
    "# step_1.solution()\n"
   ]
  },
  {
   "cell_type": "markdown",
   "id": "9228ed61",
   "metadata": {
    "papermill": {
     "duration": 0.006318,
     "end_time": "2022-05-29T12:16:58.652327",
     "exception": false,
     "start_time": "2022-05-29T12:16:58.646009",
     "status": "completed"
    },
    "tags": []
   },
   "source": [
    "## Step 2: Specify and Fit the Model\n",
    "\n",
    "Create a `DecisionTreeRegressor` model and fit it to the relevant data.\n",
    "Set `random_state` to 1 again when creating the model."
   ]
  },
  {
   "cell_type": "code",
   "execution_count": 4,
   "id": "2351f805",
   "metadata": {
    "execution": {
     "iopub.execute_input": "2022-05-29T12:16:58.667535Z",
     "iopub.status.busy": "2022-05-29T12:16:58.667128Z",
     "iopub.status.idle": "2022-05-29T12:16:58.692968Z",
     "shell.execute_reply": "2022-05-29T12:16:58.691874Z"
    },
    "papermill": {
     "duration": 0.036602,
     "end_time": "2022-05-29T12:16:58.695754",
     "exception": false,
     "start_time": "2022-05-29T12:16:58.659152",
     "status": "completed"
    },
    "tags": []
   },
   "outputs": [
    {
     "name": "stdout",
     "output_type": "stream",
     "text": [
      "[186500. 184000. 130000.  92000. 164500. 220000. 335000. 144152. 215000.\n",
      " 262000.]\n",
      "[186500. 184000. 130000.  92000. 164500. 220000. 335000. 144152. 215000.\n",
      " 262000.]\n"
     ]
    },
    {
     "data": {
      "application/javascript": [
       "parent.postMessage({\"jupyterEvent\": \"custom.exercise_interaction\", \"data\": {\"outcomeType\": 1, \"valueTowardsCompletion\": 0.25, \"interactionType\": 1, \"questionType\": 2, \"questionId\": \"2_FitModelWithTrain\", \"learnToolsVersion\": \"0.3.4\", \"failureMessage\": \"\", \"exceptionClass\": \"\", \"trace\": \"\"}}, \"*\")"
      ],
      "text/plain": [
       "<IPython.core.display.Javascript object>"
      ]
     },
     "metadata": {},
     "output_type": "display_data"
    },
    {
     "data": {
      "text/markdown": [
       "<span style=\"color:#33cc33\">Correct</span>"
      ],
      "text/plain": [
       "Correct"
      ]
     },
     "metadata": {},
     "output_type": "display_data"
    }
   ],
   "source": [
    "# You imported DecisionTreeRegressor in your last exercise\n",
    "# and that code has been copied to the setup code above. So, no need to\n",
    "from sklearn.tree import DecisionTreeRegressor\n",
    "\n",
    "# Specify the model\n",
    "iowa_model = DecisionTreeRegressor(random_state = 1)\n",
    "\n",
    "# Fit iowa_model with the training data.\n",
    "iowa_model.fit(train_X,train_y)\n",
    "\n",
    "# Check your answer\n",
    "step_2.check()"
   ]
  },
  {
   "cell_type": "code",
   "execution_count": 5,
   "id": "ec480ef5",
   "metadata": {
    "execution": {
     "iopub.execute_input": "2022-05-29T12:16:58.712325Z",
     "iopub.status.busy": "2022-05-29T12:16:58.711720Z",
     "iopub.status.idle": "2022-05-29T12:16:58.715181Z",
     "shell.execute_reply": "2022-05-29T12:16:58.714531Z"
    },
    "papermill": {
     "duration": 0.013631,
     "end_time": "2022-05-29T12:16:58.716993",
     "exception": false,
     "start_time": "2022-05-29T12:16:58.703362",
     "status": "completed"
    },
    "tags": []
   },
   "outputs": [],
   "source": [
    "# step_2.hint()\n",
    "# step_2.solution()"
   ]
  },
  {
   "cell_type": "markdown",
   "id": "8aea6d9c",
   "metadata": {
    "papermill": {
     "duration": 0.006729,
     "end_time": "2022-05-29T12:16:58.730977",
     "exception": false,
     "start_time": "2022-05-29T12:16:58.724248",
     "status": "completed"
    },
    "tags": []
   },
   "source": [
    "## Step 3: Make Predictions with Validation data\n"
   ]
  },
  {
   "cell_type": "code",
   "execution_count": 6,
   "id": "8d1512ae",
   "metadata": {
    "execution": {
     "iopub.execute_input": "2022-05-29T12:16:58.747249Z",
     "iopub.status.busy": "2022-05-29T12:16:58.746645Z",
     "iopub.status.idle": "2022-05-29T12:16:58.756394Z",
     "shell.execute_reply": "2022-05-29T12:16:58.755481Z"
    },
    "papermill": {
     "duration": 0.020777,
     "end_time": "2022-05-29T12:16:58.758995",
     "exception": false,
     "start_time": "2022-05-29T12:16:58.738218",
     "status": "completed"
    },
    "tags": []
   },
   "outputs": [
    {
     "data": {
      "application/javascript": [
       "parent.postMessage({\"jupyterEvent\": \"custom.exercise_interaction\", \"data\": {\"outcomeType\": 1, \"valueTowardsCompletion\": 0.25, \"interactionType\": 1, \"questionType\": 2, \"questionId\": \"3_ValPreds\", \"learnToolsVersion\": \"0.3.4\", \"failureMessage\": \"\", \"exceptionClass\": \"\", \"trace\": \"\"}}, \"*\")"
      ],
      "text/plain": [
       "<IPython.core.display.Javascript object>"
      ]
     },
     "metadata": {},
     "output_type": "display_data"
    },
    {
     "data": {
      "text/markdown": [
       "<span style=\"color:#33cc33\">Correct</span>"
      ],
      "text/plain": [
       "Correct"
      ]
     },
     "metadata": {},
     "output_type": "display_data"
    }
   ],
   "source": [
    "# Predict with all validation observations\n",
    "val_predictions = iowa_model.predict(val_X)\n",
    "\n",
    "# Check your answer\n",
    "step_3.check()"
   ]
  },
  {
   "cell_type": "code",
   "execution_count": 7,
   "id": "a1e5d845",
   "metadata": {
    "execution": {
     "iopub.execute_input": "2022-05-29T12:16:58.778066Z",
     "iopub.status.busy": "2022-05-29T12:16:58.776506Z",
     "iopub.status.idle": "2022-05-29T12:16:58.781278Z",
     "shell.execute_reply": "2022-05-29T12:16:58.780668Z"
    },
    "papermill": {
     "duration": 0.016409,
     "end_time": "2022-05-29T12:16:58.783319",
     "exception": false,
     "start_time": "2022-05-29T12:16:58.766910",
     "status": "completed"
    },
    "tags": []
   },
   "outputs": [],
   "source": [
    "# step_3.hint()\n",
    "# step_3.solution()"
   ]
  },
  {
   "cell_type": "markdown",
   "id": "1792c79a",
   "metadata": {
    "papermill": {
     "duration": 0.007037,
     "end_time": "2022-05-29T12:16:58.797843",
     "exception": false,
     "start_time": "2022-05-29T12:16:58.790806",
     "status": "completed"
    },
    "tags": []
   },
   "source": [
    "Inspect your predictions and actual values from validation data."
   ]
  },
  {
   "cell_type": "code",
   "execution_count": 8,
   "id": "9a2e69f0",
   "metadata": {
    "execution": {
     "iopub.execute_input": "2022-05-29T12:16:58.814717Z",
     "iopub.status.busy": "2022-05-29T12:16:58.814092Z",
     "iopub.status.idle": "2022-05-29T12:16:58.820091Z",
     "shell.execute_reply": "2022-05-29T12:16:58.819050Z"
    },
    "papermill": {
     "duration": 0.017773,
     "end_time": "2022-05-29T12:16:58.823002",
     "exception": false,
     "start_time": "2022-05-29T12:16:58.805229",
     "status": "completed"
    },
    "tags": []
   },
   "outputs": [
    {
     "name": "stdout",
     "output_type": "stream",
     "text": [
      "[186500. 184000. 130000.  92000. 164500.]\n",
      "[231500 179500 122000  84500 142000]\n"
     ]
    }
   ],
   "source": [
    "# print the top few validation predictions\n",
    "print(val_predictions[:5])\n",
    "# print the top few actual prices from validation data\n",
    "print(val_y[:5].values)"
   ]
  },
  {
   "cell_type": "markdown",
   "id": "0b2e680b",
   "metadata": {
    "papermill": {
     "duration": 0.007388,
     "end_time": "2022-05-29T12:16:58.838574",
     "exception": false,
     "start_time": "2022-05-29T12:16:58.831186",
     "status": "completed"
    },
    "tags": []
   },
   "source": [
    "What do you notice that is different from what you saw with in-sample predictions (which are printed after the top code cell in this page).\n",
    "\n",
    "Do you remember why validation predictions differ from in-sample (or training) predictions? This is an important idea from the last lesson.\n",
    "\n",
    "## Step 4: Calculate the Mean Absolute Error in Validation Data\n"
   ]
  },
  {
   "cell_type": "code",
   "execution_count": 9,
   "id": "1dd0e5c5",
   "metadata": {
    "execution": {
     "iopub.execute_input": "2022-05-29T12:16:58.856072Z",
     "iopub.status.busy": "2022-05-29T12:16:58.855301Z",
     "iopub.status.idle": "2022-05-29T12:16:58.866220Z",
     "shell.execute_reply": "2022-05-29T12:16:58.865319Z"
    },
    "papermill": {
     "duration": 0.022135,
     "end_time": "2022-05-29T12:16:58.868338",
     "exception": false,
     "start_time": "2022-05-29T12:16:58.846203",
     "status": "completed"
    },
    "tags": []
   },
   "outputs": [
    {
     "name": "stdout",
     "output_type": "stream",
     "text": [
      "29652.931506849316\n"
     ]
    },
    {
     "data": {
      "application/javascript": [
       "parent.postMessage({\"jupyterEvent\": \"custom.exercise_interaction\", \"data\": {\"outcomeType\": 1, \"valueTowardsCompletion\": 0.25, \"interactionType\": 1, \"questionType\": 1, \"questionId\": \"4_MAE\", \"learnToolsVersion\": \"0.3.4\", \"failureMessage\": \"\", \"exceptionClass\": \"\", \"trace\": \"\"}}, \"*\")"
      ],
      "text/plain": [
       "<IPython.core.display.Javascript object>"
      ]
     },
     "metadata": {},
     "output_type": "display_data"
    },
    {
     "data": {
      "text/markdown": [
       "<span style=\"color:#33cc33\">Correct</span>"
      ],
      "text/plain": [
       "Correct"
      ]
     },
     "metadata": {},
     "output_type": "display_data"
    }
   ],
   "source": [
    "from sklearn.metrics import mean_absolute_error\n",
    "val_mae = mean_absolute_error(y_pred=val_predictions,y_true = val_y)\n",
    "\n",
    "# uncomment following line to see the validation_mae\n",
    "print(val_mae)\n",
    "\n",
    "# Check your answer\n",
    "step_4.check()"
   ]
  },
  {
   "cell_type": "code",
   "execution_count": 10,
   "id": "32d25e2e",
   "metadata": {
    "execution": {
     "iopub.execute_input": "2022-05-29T12:16:58.887550Z",
     "iopub.status.busy": "2022-05-29T12:16:58.886796Z",
     "iopub.status.idle": "2022-05-29T12:16:58.891330Z",
     "shell.execute_reply": "2022-05-29T12:16:58.890659Z"
    },
    "papermill": {
     "duration": 0.016239,
     "end_time": "2022-05-29T12:16:58.893280",
     "exception": false,
     "start_time": "2022-05-29T12:16:58.877041",
     "status": "completed"
    },
    "tags": []
   },
   "outputs": [],
   "source": [
    "# step_4.hint()\n",
    "# step_4.solution()"
   ]
  },
  {
   "cell_type": "markdown",
   "id": "29658ebd",
   "metadata": {
    "papermill": {
     "duration": 0.008659,
     "end_time": "2022-05-29T12:16:58.910356",
     "exception": false,
     "start_time": "2022-05-29T12:16:58.901697",
     "status": "completed"
    },
    "tags": []
   },
   "source": [
    "Is that MAE good?  There isn't a general rule for what values are good that applies across applications. But you'll see how to use (and improve) this number in the next step.\n",
    "\n",
    "# Keep Going\n",
    "\n",
    "You are ready for **[Underfitting and Overfitting](https://www.kaggle.com/dansbecker/underfitting-and-overfitting).**\n"
   ]
  },
  {
   "cell_type": "markdown",
   "id": "a530f0c3",
   "metadata": {
    "papermill": {
     "duration": 0.007845,
     "end_time": "2022-05-29T12:16:58.926800",
     "exception": false,
     "start_time": "2022-05-29T12:16:58.918955",
     "status": "completed"
    },
    "tags": []
   },
   "source": [
    "---\n",
    "\n",
    "\n",
    "\n",
    "\n",
    "*Have questions or comments? Visit the [course discussion forum](https://www.kaggle.com/learn/intro-to-machine-learning/discussion) to chat with other learners.*"
   ]
  }
 ],
 "metadata": {
  "kernelspec": {
   "display_name": "Python 3",
   "language": "python",
   "name": "python3"
  },
  "language_info": {
   "codemirror_mode": {
    "name": "ipython",
    "version": 3
   },
   "file_extension": ".py",
   "mimetype": "text/x-python",
   "name": "python",
   "nbconvert_exporter": "python",
   "pygments_lexer": "ipython3",
   "version": "3.7.12"
  },
  "papermill": {
   "default_parameters": {},
   "duration": 16.432988,
   "end_time": "2022-05-29T12:16:59.958329",
   "environment_variables": {},
   "exception": null,
   "input_path": "__notebook__.ipynb",
   "output_path": "__notebook__.ipynb",
   "parameters": {},
   "start_time": "2022-05-29T12:16:43.525341",
   "version": "2.3.4"
  }
 },
 "nbformat": 4,
 "nbformat_minor": 5
}
